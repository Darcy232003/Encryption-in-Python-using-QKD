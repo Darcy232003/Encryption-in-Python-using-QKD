{
  "nbformat": 4,
  "nbformat_minor": 0,
  "metadata": {
    "colab": {
      "provenance": []
    },
    "kernelspec": {
      "name": "python3",
      "display_name": "Python 3"
    },
    "language_info": {
      "name": "python"
    }
  },
  "cells": [
    {
      "cell_type": "markdown",
      "source": [
        "# **Coding Project: Encryption in Python**\n",
        "---\n",
        "\n",
        "### **Description**\n",
        "In this project, you will be writing code to encrypt and decrypt a message of your choice using a key generated through QKD.\n",
        "\n",
        "<br>"
      ],
      "metadata": {
        "id": "bKxy5QMFjWGo"
      }
    },
    {
      "cell_type": "code",
      "source": [
        "!pip install cryptography\n",
        "from cryptography.hazmat.primitives.ciphers import Cipher, algorithms, modes\n",
        "from cryptography.hazmat.primitives import padding\n",
        "from cryptography.hazmat.backends import default_backend\n",
        "from cryptography.hazmat.primitives import serialization\n",
        "from cryptography.hazmat.primitives import hashes\n",
        "from cryptography.hazmat.primitives.kdf.pbkdf2 import PBKDF2HMAC\n",
        "from cryptography.hazmat.primitives import hmac\n",
        "from base64 import b64encode, b64decode\n",
        "!pip install cirq --quiet\n",
        "import cirq\n",
        "from random import choices"
      ],
      "metadata": {
        "colab": {
          "base_uri": "https://localhost:8080/"
        },
        "id": "OuvFkTSrbYSK",
        "outputId": "c3c5775b-9dda-466e-9c51-654e200d2c32"
      },
      "execution_count": null,
      "outputs": [
        {
          "output_type": "stream",
          "name": "stdout",
          "text": [
            "Requirement already satisfied: cryptography in /usr/local/lib/python3.10/dist-packages (42.0.5)\n",
            "Requirement already satisfied: cffi>=1.12 in /usr/local/lib/python3.10/dist-packages (from cryptography) (1.16.0)\n",
            "Requirement already satisfied: pycparser in /usr/local/lib/python3.10/dist-packages (from cffi>=1.12->cryptography) (2.22)\n",
            "\u001b[2K     \u001b[90m━━━━━━━━━━━━━━━━━━━━━━━━━━━━━━━━━━━━━━━━\u001b[0m \u001b[32m1.8/1.8 MB\u001b[0m \u001b[31m7.2 MB/s\u001b[0m eta \u001b[36m0:00:00\u001b[0m\n",
            "\u001b[2K     \u001b[90m━━━━━━━━━━━━━━━━━━━━━━━━━━━━━━━━━━━━━━━━\u001b[0m \u001b[32m143.1/143.1 kB\u001b[0m \u001b[31m9.3 MB/s\u001b[0m eta \u001b[36m0:00:00\u001b[0m\n",
            "\u001b[2K     \u001b[90m━━━━━━━━━━━━━━━━━━━━━━━━━━━━━━━━━━━━━━━━\u001b[0m \u001b[32m598.8/598.8 kB\u001b[0m \u001b[31m10.2 MB/s\u001b[0m eta \u001b[36m0:00:00\u001b[0m\n",
            "\u001b[2K     \u001b[90m━━━━━━━━━━━━━━━━━━━━━━━━━━━━━━━━━━━━━━━━\u001b[0m \u001b[32m60.9/60.9 kB\u001b[0m \u001b[31m6.7 MB/s\u001b[0m eta \u001b[36m0:00:00\u001b[0m\n",
            "\u001b[2K     \u001b[90m━━━━━━━━━━━━━━━━━━━━━━━━━━━━━━━━━━━━━━━━\u001b[0m \u001b[32m66.2/66.2 kB\u001b[0m \u001b[31m6.8 MB/s\u001b[0m eta \u001b[36m0:00:00\u001b[0m\n",
            "\u001b[2K     \u001b[90m━━━━━━━━━━━━━━━━━━━━━━━━━━━━━━━━━━━━━━━━\u001b[0m \u001b[32m596.5/596.5 kB\u001b[0m \u001b[31m9.8 MB/s\u001b[0m eta \u001b[36m0:00:00\u001b[0m\n",
            "\u001b[2K     \u001b[90m━━━━━━━━━━━━━━━━━━━━━━━━━━━━━━━━━━━━━━━━\u001b[0m \u001b[32m223.8/223.8 kB\u001b[0m \u001b[31m10.2 MB/s\u001b[0m eta \u001b[36m0:00:00\u001b[0m\n",
            "\u001b[2K     \u001b[90m━━━━━━━━━━━━━━━━━━━━━━━━━━━━━━━━━━━━━━━━\u001b[0m \u001b[32m229.9/229.9 kB\u001b[0m \u001b[31m10.0 MB/s\u001b[0m eta \u001b[36m0:00:00\u001b[0m\n",
            "\u001b[?25h  Preparing metadata (setup.py) ... \u001b[?25l\u001b[?25hdone\n",
            "\u001b[2K     \u001b[90m━━━━━━━━━━━━━━━━━━━━━━━━━━━━━━━━━━━━━━━━\u001b[0m \u001b[32m151.7/151.7 kB\u001b[0m \u001b[31m8.9 MB/s\u001b[0m eta \u001b[36m0:00:00\u001b[0m\n",
            "\u001b[2K     \u001b[90m━━━━━━━━━━━━━━━━━━━━━━━━━━━━━━━━━━━━━━━━\u001b[0m \u001b[32m45.6/45.6 kB\u001b[0m \u001b[31m4.3 MB/s\u001b[0m eta \u001b[36m0:00:00\u001b[0m\n",
            "\u001b[?25h  Preparing metadata (setup.py) ... \u001b[?25l\u001b[?25hdone\n",
            "\u001b[2K     \u001b[90m━━━━━━━━━━━━━━━━━━━━━━━━━━━━━━━━━━━━━━━━\u001b[0m \u001b[32m1.6/1.6 MB\u001b[0m \u001b[31m10.2 MB/s\u001b[0m eta \u001b[36m0:00:00\u001b[0m\n",
            "\u001b[2K     \u001b[90m━━━━━━━━━━━━━━━━━━━━━━━━━━━━━━━━━━━━━━━━\u001b[0m \u001b[32m151.7/151.7 kB\u001b[0m \u001b[31m10.7 MB/s\u001b[0m eta \u001b[36m0:00:00\u001b[0m\n",
            "\u001b[2K     \u001b[90m━━━━━━━━━━━━━━━━━━━━━━━━━━━━━━━━━━━━━━━━\u001b[0m \u001b[32m151.7/151.7 kB\u001b[0m \u001b[31m9.9 MB/s\u001b[0m eta \u001b[36m0:00:00\u001b[0m\n",
            "\u001b[2K     \u001b[90m━━━━━━━━━━━━━━━━━━━━━━━━━━━━━━━━━━━━━━━━\u001b[0m \u001b[32m147.4/147.4 kB\u001b[0m \u001b[31m9.4 MB/s\u001b[0m eta \u001b[36m0:00:00\u001b[0m\n",
            "\u001b[2K     \u001b[90m━━━━━━━━━━━━━━━━━━━━━━━━━━━━━━━━━━━━━━━━\u001b[0m \u001b[32m147.4/147.4 kB\u001b[0m \u001b[31m12.6 MB/s\u001b[0m eta \u001b[36m0:00:00\u001b[0m\n",
            "\u001b[2K     \u001b[90m━━━━━━━━━━━━━━━━━━━━━━━━━━━━━━━━━━━━━━━━\u001b[0m \u001b[32m147.4/147.4 kB\u001b[0m \u001b[31m10.1 MB/s\u001b[0m eta \u001b[36m0:00:00\u001b[0m\n",
            "\u001b[2K     \u001b[90m━━━━━━━━━━━━━━━━━━━━━━━━━━━━━━━━━━━━━━━━\u001b[0m \u001b[32m142.7/142.7 kB\u001b[0m \u001b[31m9.4 MB/s\u001b[0m eta \u001b[36m0:00:00\u001b[0m\n",
            "\u001b[2K     \u001b[90m━━━━━━━━━━━━━━━━━━━━━━━━━━━━━━━━━━━━━━━━\u001b[0m \u001b[32m85.5/85.5 kB\u001b[0m \u001b[31m5.1 MB/s\u001b[0m eta \u001b[36m0:00:00\u001b[0m\n",
            "\u001b[2K     \u001b[90m━━━━━━━━━━━━━━━━━━━━━━━━━━━━━━━━━━━━━━━━\u001b[0m \u001b[32m85.1/85.1 kB\u001b[0m \u001b[31m7.8 MB/s\u001b[0m eta \u001b[36m0:00:00\u001b[0m\n",
            "\u001b[2K     \u001b[90m━━━━━━━━━━━━━━━━━━━━━━━━━━━━━━━━━━━━━━━━\u001b[0m \u001b[32m84.7/84.7 kB\u001b[0m \u001b[31m7.3 MB/s\u001b[0m eta \u001b[36m0:00:00\u001b[0m\n",
            "\u001b[2K     \u001b[90m━━━━━━━━━━━━━━━━━━━━━━━━━━━━━━━━━━━━━━━━\u001b[0m \u001b[32m83.6/83.6 kB\u001b[0m \u001b[31m7.9 MB/s\u001b[0m eta \u001b[36m0:00:00\u001b[0m\n",
            "\u001b[2K     \u001b[90m━━━━━━━━━━━━━━━━━━━━━━━━━━━━━━━━━━━━━━━━\u001b[0m \u001b[32m83.3/83.3 kB\u001b[0m \u001b[31m7.5 MB/s\u001b[0m eta \u001b[36m0:00:00\u001b[0m\n",
            "\u001b[2K     \u001b[90m━━━━━━━━━━━━━━━━━━━━━━━━━━━━━━━━━━━━━━━━\u001b[0m \u001b[32m83.4/83.4 kB\u001b[0m \u001b[31m7.8 MB/s\u001b[0m eta \u001b[36m0:00:00\u001b[0m\n",
            "\u001b[2K     \u001b[90m━━━━━━━━━━━━━━━━━━━━━━━━━━━━━━━━━━━━━━━━\u001b[0m \u001b[32m83.2/83.2 kB\u001b[0m \u001b[31m7.4 MB/s\u001b[0m eta \u001b[36m0:00:00\u001b[0m\n",
            "\u001b[2K     \u001b[90m━━━━━━━━━━━━━━━━━━━━━━━━━━━━━━━━━━━━━━━━\u001b[0m \u001b[32m82.5/82.5 kB\u001b[0m \u001b[31m7.7 MB/s\u001b[0m eta \u001b[36m0:00:00\u001b[0m\n",
            "\u001b[2K     \u001b[90m━━━━━━━━━━━━━━━━━━━━━━━━━━━━━━━━━━━━━━━━\u001b[0m \u001b[32m81.0/81.0 kB\u001b[0m \u001b[31m7.6 MB/s\u001b[0m eta \u001b[36m0:00:00\u001b[0m\n",
            "\u001b[2K     \u001b[90m━━━━━━━━━━━━━━━━━━━━━━━━━━━━━━━━━━━━━━━━\u001b[0m \u001b[32m81.0/81.0 kB\u001b[0m \u001b[31m7.5 MB/s\u001b[0m eta \u001b[36m0:00:00\u001b[0m\n",
            "\u001b[2K     \u001b[90m━━━━━━━━━━━━━━━━━━━━━━━━━━━━━━━━━━━━━━━━\u001b[0m \u001b[32m80.8/80.8 kB\u001b[0m \u001b[31m6.9 MB/s\u001b[0m eta \u001b[36m0:00:00\u001b[0m\n",
            "\u001b[2K     \u001b[90m━━━━━━━━━━━━━━━━━━━━━━━━━━━━━━━━━━━━━━━━\u001b[0m \u001b[32m80.7/80.7 kB\u001b[0m \u001b[31m7.8 MB/s\u001b[0m eta \u001b[36m0:00:00\u001b[0m\n",
            "\u001b[2K     \u001b[90m━━━━━━━━━━━━━━━━━━━━━━━━━━━━━━━━━━━━━━━━\u001b[0m \u001b[32m81.5/81.5 kB\u001b[0m \u001b[31m6.8 MB/s\u001b[0m eta \u001b[36m0:00:00\u001b[0m\n",
            "\u001b[2K     \u001b[90m━━━━━━━━━━━━━━━━━━━━━━━━━━━━━━━━━━━━━━━━\u001b[0m \u001b[32m90.4/90.4 kB\u001b[0m \u001b[31m8.0 MB/s\u001b[0m eta \u001b[36m0:00:00\u001b[0m\n",
            "\u001b[2K     \u001b[90m━━━━━━━━━━━━━━━━━━━━━━━━━━━━━━━━━━━━━━━━\u001b[0m \u001b[32m117.7/117.7 kB\u001b[0m \u001b[31m8.8 MB/s\u001b[0m eta \u001b[36m0:00:00\u001b[0m\n",
            "\u001b[2K     \u001b[90m━━━━━━━━━━━━━━━━━━━━━━━━━━━━━━━━━━━━━━━━\u001b[0m \u001b[32m60.6/60.6 kB\u001b[0m \u001b[31m5.3 MB/s\u001b[0m eta \u001b[36m0:00:00\u001b[0m\n",
            "\u001b[2K     \u001b[90m━━━━━━━━━━━━━━━━━━━━━━━━━━━━━━━━━━━━━━━━\u001b[0m \u001b[32m71.5/71.5 kB\u001b[0m \u001b[31m7.0 MB/s\u001b[0m eta \u001b[36m0:00:00\u001b[0m\n",
            "\u001b[2K     \u001b[90m━━━━━━━━━━━━━━━━━━━━━━━━━━━━━━━━━━━━━━━━\u001b[0m \u001b[32m3.1/3.1 MB\u001b[0m \u001b[31m10.7 MB/s\u001b[0m eta \u001b[36m0:00:00\u001b[0m\n",
            "\u001b[2K     \u001b[90m━━━━━━━━━━━━━━━━━━━━━━━━━━━━━━━━━━━━━━━━\u001b[0m \u001b[32m1.7/1.7 MB\u001b[0m \u001b[31m11.2 MB/s\u001b[0m eta \u001b[36m0:00:00\u001b[0m\n",
            "\u001b[2K     \u001b[90m━━━━━━━━━━━━━━━━━━━━━━━━━━━━━━━━━━━━━━━━\u001b[0m \u001b[32m117.8/117.8 kB\u001b[0m \u001b[31m9.6 MB/s\u001b[0m eta \u001b[36m0:00:00\u001b[0m\n",
            "\u001b[2K     \u001b[90m━━━━━━━━━━━━━━━━━━━━━━━━━━━━━━━━━━━━━━━━\u001b[0m \u001b[32m69.6/69.6 kB\u001b[0m \u001b[31m6.8 MB/s\u001b[0m eta \u001b[36m0:00:00\u001b[0m\n",
            "\u001b[2K     \u001b[90m━━━━━━━━━━━━━━━━━━━━━━━━━━━━━━━━━━━━━━━━\u001b[0m \u001b[32m526.7/526.7 kB\u001b[0m \u001b[31m10.8 MB/s\u001b[0m eta \u001b[36m0:00:00\u001b[0m\n",
            "\u001b[2K     \u001b[90m━━━━━━━━━━━━━━━━━━━━━━━━━━━━━━━━━━━━━━━━\u001b[0m \u001b[32m58.3/58.3 kB\u001b[0m \u001b[31m6.0 MB/s\u001b[0m eta \u001b[36m0:00:00\u001b[0m\n",
            "\u001b[?25h  Building wheel for lark (setup.py) ... \u001b[?25l\u001b[?25hdone\n",
            "  Building wheel for rpcq (setup.py) ... \u001b[?25l\u001b[?25hdone\n",
            "\u001b[31mERROR: pip's dependency resolver does not currently take into account all the packages that are installed. This behaviour is the source of the following dependency conflicts.\n",
            "referencing 0.34.0 requires attrs>=22.2.0, but you have attrs 21.4.0 which is incompatible.\u001b[0m\u001b[31m\n",
            "\u001b[0m"
          ]
        }
      ]
    },
    {
      "cell_type": "code",
      "source": [
        "def generate_bytes_from_bits(bits):\n",
        "    # Join bits into a single string\n",
        "    bit_string = ''.join(str(bit) for bit in bits)\n",
        "    # Pad the bit string to make its length divisible by 8\n",
        "    padded_bit_string = bit_string + '0' * (8 - len(bit_string) % 8)\n",
        "    # Convert the bit string to bytes\n",
        "    byte_data = bytes(int(padded_bit_string[i:i+8], 2) for i in range(0, len(padded_bit_string), 8))\n",
        "    return byte_data"
      ],
      "metadata": {
        "id": "Ly0Fvsq9wjoU"
      },
      "execution_count": null,
      "outputs": []
    },
    {
      "cell_type": "code",
      "source": [
        "def QKD(num_bits):\n",
        "  #Setup\n",
        "  encode_gates = {0: cirq.I, 1: cirq.X}\n",
        "  basis_gates = {'Z': cirq.I, 'X': cirq.H}\n",
        "\n",
        "  qubits = cirq.NamedQubit.range(num_bits, prefix = 'q')\n",
        "\n",
        "  #Alice Chooses Bits and Bases\n",
        "  alice_key = choices([0, 1], k = num_bits)\n",
        "  alice_bases = choices(['Z', 'X'], k = num_bits)\n",
        "\n",
        "  #Alice Creates Qubits\n",
        "  alice_circuit = cirq.Circuit()\n",
        "\n",
        "  for bit in range(num_bits):\n",
        "\n",
        "    encode_value = alice_key[bit]\n",
        "    encode_gate = encode_gates[encode_value]\n",
        "\n",
        "    basis_value = alice_bases[bit]\n",
        "    basis_gate = basis_gates[basis_value]\n",
        "\n",
        "    qubit = qubits[bit]\n",
        "    alice_circuit.append(encode_gate(qubit))\n",
        "    alice_circuit.append(basis_gate(qubit))\n",
        "\n",
        "  #Bob chooses a Bases\n",
        "  bob_bases = choices(['Z', 'X'], k = num_bits)\n",
        "\n",
        "  bob_circuit = cirq.Circuit()\n",
        "\n",
        "  for bit in range(num_bits):\n",
        "\n",
        "    basis_value = bob_bases[bit]\n",
        "    basis_gate = basis_gates[basis_value]\n",
        "\n",
        "    qubit = qubits[bit]\n",
        "    bob_circuit.append(basis_gate(qubit))\n",
        "\n",
        "  #Bob Measures Qubits\n",
        "  bob_circuit.append(cirq.measure(qubits, key = 'bob key'))\n",
        "\n",
        "  #Bob Creates a Key\n",
        "  bb84_circuit = alice_circuit + bob_circuit\n",
        "\n",
        "  sim = cirq.Simulator()\n",
        "  results = sim.run(bb84_circuit)\n",
        "  bob_key = results.measurements['bob key'][0]\n",
        "\n",
        "  final_alice_key = []\n",
        "  final_bob_key = []\n",
        "\n",
        "  #Compare Bases\n",
        "  for bit in range(num_bits):\n",
        "\n",
        "    if alice_bases[bit] == bob_bases[bit]:\n",
        "      final_alice_key.append(alice_key[bit])\n",
        "      final_bob_key.append(bob_key[bit])\n",
        "\n",
        "  #Compare Half their Bits\n",
        "  num_bits_to_compare = int(len(final_alice_key) * .5)\n",
        "  if final_alice_key[0:num_bits_to_compare] == final_bob_key[0:num_bits_to_compare]:\n",
        "    final_alice_key = final_alice_key[num_bits_to_compare:]\n",
        "    final_bob_key = final_bob_key[num_bits_to_compare:]\n",
        "\n",
        "    print('\\n\\nWe can use our keys!')\n",
        "    print('Alice Key: ', final_alice_key)\n",
        "    print('Bob Key: ', final_bob_key)\n",
        "\n",
        "  else:\n",
        "    print('\\n\\nEve was listening, we need to use a different channel!')\n",
        "  # Assuming final_alice_key and final_bob_key are lists of bits\n",
        "  alice_bytes = generate_bytes_from_bits(final_alice_key)\n",
        "  bob_bytes = generate_bytes_from_bits(final_bob_key)\n",
        "\n",
        "  return alice_bytes"
      ],
      "metadata": {
        "id": "P1FwDV7GQSiy"
      },
      "execution_count": null,
      "outputs": []
    },
    {
      "cell_type": "markdown",
      "source": [
        "### **Step 1**\n",
        "You will first need to create some data we would like to send."
      ],
      "metadata": {
        "id": "V6MnfKMnk3uR"
      }
    },
    {
      "cell_type": "code",
      "source": [
        "unencrypted_string = \"Meet me at the park tomorrow afternoon\""
      ],
      "metadata": {
        "id": "ewx6O2qXlY53"
      },
      "execution_count": null,
      "outputs": []
    },
    {
      "cell_type": "markdown",
      "source": [
        "### **Step 2**\n",
        "Use the `QKD` function, defined above, to create a key for your data."
      ],
      "metadata": {
        "id": "3F0lspFulgT0"
      }
    },
    {
      "cell_type": "code",
      "source": [
        "# Generate a random key (16 bytes for AES)\n",
        "alice_bytes = QKD(512)\n",
        "qkd_key = alice_bytes[:16]\n",
        "print(qkd_key)\n",
        "\n",
        "#len(qkd_key)"
      ],
      "metadata": {
        "id": "pw82euVmlgT0",
        "outputId": "f7a34581-b666-4474-96d9-47fa5492e831",
        "colab": {
          "base_uri": "https://localhost:8080/"
        }
      },
      "execution_count": null,
      "outputs": [
        {
          "output_type": "stream",
          "name": "stdout",
          "text": [
            "\n",
            "\n",
            "We can use our keys!\n",
            "Alice Key:  [1, 0, 1, 1, 1, 0, 0, 1, 1, 1, 0, 0, 1, 1, 1, 0, 0, 1, 0, 1, 1, 1, 1, 0, 1, 1, 1, 1, 1, 1, 0, 0, 1, 0, 0, 0, 1, 1, 1, 0, 0, 1, 1, 1, 0, 1, 1, 0, 1, 1, 0, 0, 0, 0, 1, 0, 0, 0, 0, 1, 0, 1, 1, 0, 1, 1, 0, 1, 1, 0, 1, 0, 1, 1, 0, 1, 1, 0, 1, 1, 1, 0, 0, 0, 1, 0, 1, 1, 1, 1, 0, 1, 1, 1, 1, 0, 0, 1, 1, 1, 0, 1, 1, 1, 1, 1, 0, 1, 1, 0, 0, 1, 1, 1, 1, 0, 0, 1, 1, 1, 1, 1, 1, 1, 0, 1, 1, 0, 0, 0, 0, 1]\n",
            "Bob Key:  [1, 0, 1, 1, 1, 0, 0, 1, 1, 1, 0, 0, 1, 1, 1, 0, 0, 1, 0, 1, 1, 1, 1, 0, 1, 1, 1, 1, 1, 1, 0, 0, 1, 0, 0, 0, 1, 1, 1, 0, 0, 1, 1, 1, 0, 1, 1, 0, 1, 1, 0, 0, 0, 0, 1, 0, 0, 0, 0, 1, 0, 1, 1, 0, 1, 1, 0, 1, 1, 0, 1, 0, 1, 1, 0, 1, 1, 0, 1, 1, 1, 0, 0, 0, 1, 0, 1, 1, 1, 1, 0, 1, 1, 1, 1, 0, 0, 1, 1, 1, 0, 1, 1, 1, 1, 1, 0, 1, 1, 0, 0, 1, 1, 1, 1, 0, 0, 1, 1, 1, 1, 1, 1, 1, 0, 1, 1, 0, 0, 0, 0, 1]\n",
            "b'\\xb9\\xce^\\xfc\\x8ev\\xc2\\x16\\xda\\xdb\\x8b\\xdew\\xd9\\xe7\\xf6'\n"
          ]
        }
      ]
    },
    {
      "cell_type": "markdown",
      "source": [
        "### **Step 3**\n",
        "---\n",
        "You will need to create a function that can now ecrypt your message using your key. You may import from any python libraries you like to define this function."
      ],
      "metadata": {
        "id": "N44Lm949l9R7"
      }
    },
    {
      "cell_type": "code",
      "source": [
        "def encrypt_message(unencrypted_string, qkd_key):\n",
        "  try:\n",
        "    # Pad the plaintext message to match the block size of AES\n",
        "    padder = padding.PKCS7(algorithms.AES.block_size).padder()\n",
        "    padded_message = padder.update(unencrypted_string.encode()) + padder.finalize()\n",
        "    # Encrypt the padded message\n",
        "    cipher = Cipher(algorithms.AES(qkd_key), modes.ECB(), backend=default_backend())\n",
        "    encryptor = cipher.encryptor()\n",
        "    ciphertext = encryptor.update(padded_message) + encryptor.finalize()\n",
        "\n",
        "    return ciphertext.hex()\n",
        "\n",
        "  except (ValueError, AttributeError) as e:\n",
        "    print(\"Error during Encryption:\", e)\n",
        "    return None"
      ],
      "metadata": {
        "id": "zjGC1PCHTFe0"
      },
      "execution_count": null,
      "outputs": []
    },
    {
      "cell_type": "markdown",
      "source": [
        "### **Step 4**\n",
        "\n",
        "You will need to create a function that can now decrypt your message using your key. You may import from any python libraries you like to define this function."
      ],
      "metadata": {
        "id": "AJwhQ7yUmwOy"
      }
    },
    {
      "cell_type": "code",
      "source": [
        "def decrypt_message(encrypted_message, qkd_key):\n",
        "    try:\n",
        "      # Convert encrypted_message from hexadecimal string to bytes\n",
        "      ciphertext = bytes.fromhex(encrypted_message)\n",
        "\n",
        "      # Decrypt the ciphertext\n",
        "      cipher = Cipher(algorithms.AES(qkd_key), modes.ECB(), backend=default_backend())\n",
        "      decryptor = cipher.decryptor()\n",
        "      decrypted_message = decryptor.update(ciphertext) + decryptor.finalize()\n",
        "\n",
        "      # Unpad the decrypted message to remove the padding\n",
        "      unpadder = padding.PKCS7(algorithms.AES.block_size).unpadder()\n",
        "      original_plaintext = unpadder.update(decrypted_message) + unpadder.finalize()\n",
        "\n",
        "      # Return the decrypted plaintext\n",
        "      return original_plaintext.decode()\n",
        "\n",
        "    except (ValueError, AttributeError) as e:\n",
        "      print(\"Error during Decryption:\", e)\n",
        "      return None"
      ],
      "metadata": {
        "id": "PEatDVCvzDNg"
      },
      "execution_count": null,
      "outputs": []
    },
    {
      "cell_type": "markdown",
      "source": [
        "### **Step 5**\n",
        "---\n",
        "Write code to encrypt and decrypt your message using your key to ensure that you were successful."
      ],
      "metadata": {
        "id": "XwJqT-JTnBdS"
      }
    },
    {
      "cell_type": "code",
      "execution_count": null,
      "metadata": {
        "id": "eKlKbyIll9SH",
        "colab": {
          "base_uri": "https://localhost:8080/"
        },
        "outputId": "7bf060d4-0087-4bd6-f8ef-2c6273308bee"
      },
      "outputs": [
        {
          "output_type": "stream",
          "name": "stdout",
          "text": [
            "Encrypted Message: d69f341e4bc0954dbd6c5e3543eff2cb087eead07fa03c115b1d7803c4dee2dfe5b1e2fce6000046583f114dfe2108ba\n",
            "Decrypted Message: Meet me at the park tomorrow afternoon\n"
          ]
        }
      ],
      "source": [
        "# Encrypt the message\n",
        "encrypted_message = encrypt_message(unencrypted_string, qkd_key)\n",
        "print(\"Encrypted Message:\", encrypted_message)\n",
        "\n",
        "# Decrypt the message\n",
        "decrypted_message = decrypt_message(encrypted_message, qkd_key)\n",
        "print(\"Decrypted Message:\", decrypted_message)"
      ]
    },
    {
      "cell_type": "markdown",
      "source": [
        "# End of Notebook\n",
        "\n",
        "---\n",
        "© 2024 The Coding School, All rights reserved"
      ],
      "metadata": {
        "id": "NGJhb6stUYCp"
      }
    }
  ]
}